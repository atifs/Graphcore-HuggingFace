{
 "cells": [
  {
   "cell_type": "markdown",
   "id": "41c3e3bb",
   "metadata": {},
   "source": [
    "# Training HuggingFace 🤗 Models on an IPU using Paperspace Gradient\n",
    "\n",
    "Whether you are looking to generate images with Stable Diffusion, derive insights from text, or need to recognize audio samples, the examples in here have you covered. And by using Paperspace to access IPUs you can be up and running in minutes!\n",
    "\n",
    "## Getting Started with our interactive notebooks!\n",
    "\n",
    "To familurise yourself with IPU related programming start here with our [Introduction to 🤗 Optimum Graphcore: BERT Fine-tuning on IPUs](natural-language-processing/introduction_to_optimum_graphcore.ipynb) notebook.\n",
    "\n",
    "For dedicated finetuning, inference, advanced ML and IPU related notebooks checkout the following notebooks:\n"
   ]
  },
  {
   "cell_type": "markdown",
   "id": "46edd69c",
   "metadata": {},
   "source": [
    "<details><summary><big> Fine-tune our models on your datasets!</summary><br/>\n",
    "\n",
    "Here our our notebooks on how to use datasets to fine-tune Hugging Face checkpoints.\n",
    "\n",
    "Check out our notebook on how to use LibriSpeech to fine-tune the [wav2vec2 model](https://ipu.dev/3CGkbMq). \n",
    "Or, dive into how to use Hugging Face to fine-tune a model for [image classifcation](https://ipu.dev/3QxTCyU).\n",
    "\n",
    "\n",
    "We also have a range of NLP notebooks to help you get you started on fine-tuning your models for a range of different tasks!\n",
    "<ul style=“list-style-type:disc”>\n",
    "    \n",
    "[translation](https://ipu.dev/3XbkoQk)\n",
    "    \n",
    "[multiple choice](https://ipu.dev/3QxTCPq)\n",
    "    \n",
    "[question-answering](https://ipu.dev/3IutIto)\n",
    "\n",
    "[text-classification](https://ipu.dev/3XDBUvQ)\n",
    "\n",
    "[token-classification](https://ipu.dev/3YCsqT1)\n",
    "</ul>\n",
    "\n",
    "    \n",
    "</details>"
   ]
  },
  {
   "cell_type": "markdown",
   "id": "759ee951",
   "metadata": {},
   "source": [
    "<details><summary><big> Use 🤗 model checkpoints for inference</summary>\n",
    "\n",
    "Here you can learn how to use Hugging Face checkpoints directly for inference. \n",
    "\n",
    "Check out how to run our [wav2vec2 model for inference](https://ipu.dev/3CHite5) on how to classify audio segements.\n",
    " \n",
    "Our NLP notebooks show how to run inference with only 2 lines of code! \n",
    "    \n",
    "Learn how to do that using pipelines through our notebooks for [sentiment analysis](https://ipu.dev/3X5wL0a) and [name entity extraction](https://ipu.dev/3XgZ7V2).\n",
    "\n",
    "</details>"
   ]
  },
  {
   "cell_type": "markdown",
   "id": "e42f0b63",
   "metadata": {},
   "source": [
    "<details><summary><big> Build your own models</summary>\n",
    "    \n",
    "Interested in porting your own models onto the Hugging Face platform? Then you're in the right place.\n",
    "    \n",
    "Check out our notebooks on how to do exactly that:\n",
    "<ul style=“list-style-type:disc”>\n",
    "    \n",
    "[language_modelling_from_scratch](https://ipu.dev/414XiNp)\n",
    "    \n",
    "[external model](https://ipu.dev/3xwTmHM)\n",
    "</ul>\n",
    "</details>"
   ]
  },
  {
   "cell_type": "markdown",
   "id": "ecdd42c4",
   "metadata": {},
   "source": [
    "<details><summary><big> Stable Diffusion</summary>\n",
    "\n",
    "Explore our more advanced examples with our range of Stable Diffusion notebooks!\n",
    "<ul style=“list-style-type:disc”>\n",
    "\n",
    "[Stable Diffusion 2 Text-to-Image Generation on IPU](https://ipu.dev/3X3IMDh)\n",
    "    \n",
    "[Stable Diffusion Inpainting on IPU](https://ipu.dev/3X3IMDh)\n",
    "\n",
    "[Stable Diffusion Text-to-Image Generation on IPU](https://ipu.dev/3W56b5R)\n",
    "\n",
    "[Stable Diffusion Image-to-Image Generation on IPU](https://ipu.dev/3k8znM2)\n",
    "</ul>\n",
    "</details>"
   ]
  },
  {
   "cell_type": "markdown",
   "id": "6d8b8d7a",
   "metadata": {},
   "source": [
    "\n",
    "### Useful tips\n",
    "Finally, the [Managing IPU resources](useful-tips/managing_ipu_resources.ipynb) notebook contains information about how to make best use of the IPU resources. For example monitoring IPU use, releasing IPUs when you are not using them, and then re-attaching your model to the IPU when you start again.\n"
   ]
  }
 ],
 "metadata": {
  "kernelspec": {
   "display_name": "Python 3 (ipykernel)",
   "language": "python",
   "name": "python3"
  },
  "language_info": {
   "codemirror_mode": {
    "name": "ipython",
    "version": 3
   },
   "file_extension": ".py",
   "mimetype": "text/x-python",
   "name": "python",
   "nbconvert_exporter": "python",
   "pygments_lexer": "ipython3",
   "version": "3.8.10"
  },
  "vscode": {
   "interpreter": {
    "hash": "9409b80169a82c0207afe9a460d7f88a38094a708839df55a31910312ecdb1ee"
   }
  }
 },
 "nbformat": 4,
 "nbformat_minor": 5
}
