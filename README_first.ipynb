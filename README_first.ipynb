{
 "cells": [
  {
   "cell_type": "markdown",
   "id": "02f76e55-3d57-41bb-97e4-46531fc68e3d",
   "metadata": {},
   "source": [
    "# Training Hugging Face models on an IPU using Paperspace Gradient\n",
    "\n",
    "These tutorials will show you how to use Hugging Face models and train then on a Graphcore IPU using the Paperspace Gradient environment.\n",
    "\n",
    "In this environment, you will be able to learn how to use an IPU in a Jupyter-style notebook and use it to train large models including vision transformers (ViT) for images, BERT-Large for question answering, and text classification on the GLUE data.\n",
    "\n",
    "## Graphcore Hugging Face models\n",
    "\n",
    "Hugging Face provides convenient access to pre-trained transformer models.\n",
    "\n",
    "The partnership between Hugging Face and Graphcore allows us to fine-tune and run these models on an IPU in Gradient.\n",
    "\n",
    "## Getting Started\n",
    "\n",
    "No user setup is required to train IPU models on Gradient.\n",
    "\n",
    "To get started, open the `get-started` folder and run `walkthrough.ipynb`.\n",
    "\n",
    "This tutorial uses the [Vision Transformer model](https://github.com/huggingface/optimum-graphcore/tree/main/examples/image-classification) fine-tuned using the NIH Chest X-ray Dataset, as an example to show how Hugging Face models can be trained with a local dataset on the IPU.\n",
    "\n",
    "## Additional Tutorials\n",
    "\n",
    "### notebook-tutorials\n",
    "\n",
    "Next, you can go to the `notebooks-tutorial` folder and open up the `introduction_to_optimum_graphcore.ipynb`, which will take you through a BERT-Large model training.\n",
    "\n",
    "Then, `text_classification.ipynb` demonstrates text classification on the GLUE benchmarking dataset.\n",
    "\n",
    "### Other Examples\n",
    "\n",
    "More Hugging Face models ported to the IPU can be found on the [Graphcore organisation page on Hugging Face](https://huggingface.co/Graphcore)."
   ]
  }
 ],
 "metadata": {
  "kernelspec": {
   "display_name": "Python 3",
   "language": "python",
   "name": "python3"
  },
  "language_info": {
   "codemirror_mode": {
    "name": "ipython",
    "version": 3
   },
   "file_extension": ".py",
   "mimetype": "text/x-python",
   "name": "python",
   "nbconvert_exporter": "python",
   "pygments_lexer": "ipython3",
   "version": "3.8.10"
  }
 },
 "nbformat": 4,
 "nbformat_minor": 5
}
