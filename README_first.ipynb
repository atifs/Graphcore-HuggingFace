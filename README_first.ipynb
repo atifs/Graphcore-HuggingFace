{
 "cells": [
  {
   "cell_type": "markdown",
   "id": "41c3e3bb",
   "metadata": {},
   "source": [
    "# Training HuggingFace 🤗 Models on an IPU using Paperspace Gradient\n",
    "\n",
    "Whether you are looking to generate images with Stable Diffusion, derive insights from text, or need to recognize audio samples, the examples in here have you covered. And by using Paperspace to access IPUs you can be up and running in minutes!\n",
    "\n",
    "## Notebook Garden\n",
    "\n",
    "To familurise yourself with IPU related programming start here with our [Introduction to 🤗 Optimum Graphcore: BERT Fine-tuning on IPUs](natural-language-processing/introduction_to_optimum_graphcore.ipynb) notebook!\n",
    "\n",
    "For dedicated finetuning, inference, advanced ML and IPU related notebooks checkout the following notebooks!\n"
   ]
  },
  {
   "cell_type": "markdown",
   "id": "46edd69c",
   "metadata": {},
   "source": [
    "<details><summary><big><span>&#8595;</span> Fine-Tuning</summary><br/>\n",
    "    \n",
    "[audio-processing](audio-processing/wav2vec2-fine-tuning-checkpoint.ipynb)\n",
    "\n",
    "[image-processing](image-classification/image_classification.ipynb)\n",
    "    \n",
    "[translation](natural-language-processing/translation.ipynb)\n",
    "    \n",
    "[multiple choice](natural-language-processing/other-use-cases/multiple_choice.ipynb)\n",
    "    \n",
    "[question-answering](/natural-language-processing/other-use-cases/question_answering.ipynb)\n",
    "\n",
    "[text_classification](natural-language-processing/other-use-cases/text_classification.ipynb)\n",
    "\n",
    "[token_classification.ipynb](natural-language-processing/other-use-cases/token_classification.ipynb)\n",
    "\n",
    "    \n",
    "</details>"
   ]
  },
  {
   "cell_type": "markdown",
   "id": "759ee951",
   "metadata": {},
   "source": [
    "<details><summary><big><span>&#8595;</span> Inference</summary>\n",
    "    \n",
    "[audio-processing](audio-processing/wav2vec2-inference-checkpoint.ipynb)\n",
    "    \n",
    "[sentiment analysis](natural-language-processing/sentiment_analysis.ipynb)\n",
    "    \n",
    "[NER](natural-language-processing/name-entity-extraction.ipynb)\n",
    "\n",
    "</details>"
   ]
  },
  {
   "cell_type": "markdown",
   "id": "e42f0b63",
   "metadata": {},
   "source": [
    "<details><summary><big><span>&#8595;</span> Build your own models here!</summary>\n",
    "    \n",
    "[language_modelling_from_scratch](natural-language-processing/other-use-cases/language_modelling_from_scratch.ipynb)\n",
    "    \n",
    "[external model](natural-language-processing/other-use-cases/external_model.ipynb)\n",
    "\n",
    "</details>"
   ]
  },
  {
   "cell_type": "markdown",
   "id": "ecdd42c4",
   "metadata": {},
   "source": [
    "<details><summary><big><span>&#8595;</span> Stable Diffusion</summary>\n",
    "    \n",
    "[Stable Diffusion 2 Text-to-Image Generation on IPU](stable-diffusion/text_to_image_sd2.ipynb)\n",
    "\n",
    "[Stable Diffusion Text-to-Image Generation on IPU](stable-diffusion/text_to_image.ipynb)\n",
    "\n",
    "[Stable Diffusion Image-to-Image Generation on IPU](stable-diffusion/image_to_image.ipynb)\n",
    "\n",
    "\n",
    "</details>"
   ]
  },
  {
   "cell_type": "markdown",
   "id": "6d8b8d7a",
   "metadata": {},
   "source": [
    "<details><summary><big><span>&#8595;</span> Advanced IPU Tips</summary>\n",
    "    \n",
    "[Managing IPU resources from notebooks](useful-tips/managing_ipu_resources.ipynb)\n",
    "\n",
    "</details>"
   ]
  }
 ],
 "metadata": {
  "kernelspec": {
   "display_name": "Python 3 (ipykernel)",
   "language": "python",
   "name": "python3"
  },
  "language_info": {
   "codemirror_mode": {
    "name": "ipython",
    "version": 3
   },
   "file_extension": ".py",
   "mimetype": "text/x-python",
   "name": "python",
   "nbconvert_exporter": "python",
   "pygments_lexer": "ipython3",
   "version": "3.8.10"
  },
  "vscode": {
   "interpreter": {
    "hash": "9409b80169a82c0207afe9a460d7f88a38094a708839df55a31910312ecdb1ee"
   }
  }
 },
 "nbformat": 4,
 "nbformat_minor": 5
}
