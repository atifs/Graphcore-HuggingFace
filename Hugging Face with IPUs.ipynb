{
 "cells": [
  {
   "cell_type": "markdown",
   "id": "02f76e55-3d57-41bb-97e4-46531fc68e3d",
   "metadata": {},
   "source": [
    "# Training a Hugging Face model on the IPU using Paperspace Gradient\n",
    "\n",
    "This tutorial will show you how to use a Hugging Face model and train it on the IPU using the Paperspace Gradient environemnt.\n",
    "\n",
    "In this environment, you will be able to learn how to use an IPU in a Jupyter-style notebook and use it to train large models including a vision trainsformers model and BERT-Large model. \n",
    "\n",
    "## Graphcore Hugging Face models\n",
    "\n",
    "Hugging Face provides convenient access to pre-trained transformer models.\n",
    "The partnership between Hugging Face and Graphcore allows us to run these models on the IPU in Gradient.\n",
    "\n",
    "## Getting Started\n",
    "\n",
    "Hugging Face models ported to the IPU can be found on the [Graphcore organisation page on Hugging Face](https://huggingface.co/Graphcore).\n",
    "To get started go open the get-started folder and go through the walkthrough.ipynb. This tutorial uses the [Vision Transformer model](https://github.com/huggingface/optimum-graphcore/tree/main/examples/image-classification) fine-tuned using the NIH Chest X-ray Dataset, as an example to show how Hugging Face models can be trained with a local dataset on the IPU.\n",
    "\n",
    "## Additional Tutorials\n",
    "\n",
    "### notebook-tutorials\n",
    "\n",
    "Next, you can go to the 'notebooks-tutorial' folder and open up the 'introduction_to_optimum_graphcore.ipynb' which will take you through a BERT-Large model training.\n",
    "\n",
    "\n",
    "### Other Examples\n",
    "\n",
    "Lastly, you can go the the 'Other Examples\" folder to find code pre-preapared to work on an IPU to do a multitude of model trainings from language modeling to speech-recognition.\n",
    "\n",
    "To try out these other examples, you must use the terminal to run the .py files. Make sure that you run 'pip install -r requirements.txt' before running the file to make sure you have the right dependencies."
   ]
  }
 ],
 "metadata": {
  "kernelspec": {
   "display_name": "Python 3",
   "language": "python",
   "name": "python3"
  },
  "language_info": {
   "codemirror_mode": {
    "name": "ipython",
    "version": 3
   },
   "file_extension": ".py",
   "mimetype": "text/x-python",
   "name": "python",
   "nbconvert_exporter": "python",
   "pygments_lexer": "ipython3",
   "version": "3.8.10"
  }
 },
 "nbformat": 4,
 "nbformat_minor": 5
}
